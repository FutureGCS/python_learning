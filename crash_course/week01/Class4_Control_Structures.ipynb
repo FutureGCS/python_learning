{
 "cells": [
  {
   "cell_type": "markdown",
   "metadata": {},
   "source": [
    "## Wrap-Up\n",
    "\n",
    "**Fantastic job!** Today, you:\n",
    "- Used **conditionals** (`if-elif-else`) to make decisions.\n",
    "- Learned **loops** (`for` and `while`) to repeat tasks.\n",
    "- Controlled loops with **`break`** and **`continue`**.\n",
    "\n",
    "**Homework**:\n",
    "- Finish the practice exercises if you didn’t in class.\n",
    "- Write a program that prints all even numbers from 1 to 20 using a `for` loop.\n",
    "- Try a `while` loop that counts down from 5 to 1, printing each number.\n",
    "\n",
    "**What’s Next?** This wraps up Week 1! Next, we’ll combine everything to build bigger programs and explore lists and functions.\n",
    "\n",
    "Questions? Ask your instructor or share in our class forum!"
   ]
  }
 ],
 "metadata": {
  "kernelspec": {
   "display_name": "Python 3",
   "language": "python",
   "name": "python3"
  },
  "language_info": {
   "codemirror_mode": {
    "name": "ipython",
    "version": 3
   },
   "file_extension": ".py",
   "mimetype": "text/x-python",
   "name": "python",
   "nbconvert_exporter": "python",
   "pygments_lexer": "ipython3",
   "version": "3.11.0"
  }
 },
 "nbformat": 4,
 "nbformat_minor": 4
}
