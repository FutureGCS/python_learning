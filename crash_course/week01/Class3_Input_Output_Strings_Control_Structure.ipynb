{
 "cells": [
  {
   "cell_type": "markdown",
   "metadata": {},
   "source": [
    "# Class 3: Input/Output and String Manipulation\n",
    "\n",
    "**Objective**: By the end of this class, you’ll be able to take user input, display output, and manipulate strings to create interactive Python programs.\n",
    "\n",
    "**What we'll cover**:\n",
    "- Basic input/output: Using `input()` and `print()`.\n",
    "- String manipulation: Concatenation, slicing, and common methods.\n",
    "- String formatting: Creating clean, readable outputs.\n",
    "\n",
    "**Prerequisite**: You should know variables, data types, and operators from Class 2. If you’re unsure, ask your instructor!\n",
    "\n",
    "Let’s make our programs talk to users!"
   ]
  },
  {
   "cell_type": "markdown",
   "metadata": {},
   "source": [
    "## 1. Basic Input and Output\n",
    "\n",
    "To make programs interactive, we use:\n",
    "- **`input()`**: Gets text from the user (returns a string).\n",
    "- **`print()`**: Displays text or data (we used this in Classes 1–2).\n",
    "\n",
    "**Key Notes**:\n",
    "- `input()` always returns a string, even if the user types a number.\n",
    "- You can pass a prompt to `input()` to guide the user (e.g., `input(\"Enter your name: \")`).\n",
    "\n",
    "Let’s try a simple example."
   ]
  },
  {
   "cell_type": "code",
   "execution_count": 1,
   "metadata": {},
   "outputs": [
    {
     "name": "stdout",
     "output_type": "stream",
     "text": [
      "Hello, gul ! Nice to meet you!\n",
      "You are 52 years old.\n",
      "Age is type: <class 'str'>\n"
     ]
    }
   ],
   "source": [
    "# Example: Greeting the user\n",
    "name = input(\"Enter your name: \")\n",
    "print(\"Hello,\", name, \"! Nice to meet you!\")\n",
    "\n",
    "# Input is a string\n",
    "age = input(\"Enter your age: \")\n",
    "print(\"You are\", age, \"years old.\")\n",
    "print(\"Age is type:\", type(age))  # Shows <class 'str'>"
   ]
  },
  {
   "cell_type": "markdown",
   "metadata": {},
   "source": [
    "**Explanation**:\n",
    "- `input(\"Enter your name: \")` shows a prompt and stores the user’s response in `name`.\n",
    "- `print(\"Hello,\", name, \"!\")` combines text and variables.\n",
    "- Even if you type `25` for age, `age` is a string (`\"25\"`), not a number.\n",
    "\n",
    "**Try it**: Run the code. Enter your name and age. Check the type of `age`."
   ]
  },
  {
   "cell_type": "markdown",
   "metadata": {},
   "source": [
    "## 2. Converting Input to Numbers\n",
    "\n",
    "Since `input()` returns a string, you need to convert it to a number for math.\n",
    "- Use `int()` for integers (e.g., `int(\"25\")` → `25`).\n",
    "- Use `float()` for decimals (e.g., `float(\"3.14\")` → `3.14`).\n",
    "\n",
    "Let’s calculate with user input."
   ]
  },
  {
   "cell_type": "code",
   "execution_count": 2,
   "metadata": {},
   "outputs": [
    {
     "name": "stdout",
     "output_type": "stream",
     "text": [
      "You’ll be 100 in 48 years!\n"
     ]
    }
   ],
   "source": [
    "# Example: Calculate years until 100\n",
    "age = input(\"Enter your age: \")\n",
    "age = int(age)  # Convert string to integer\n",
    "years_left = 100 - age\n",
    "print(\"You’ll be 100 in\", years_left, \"years!\")"
   ]
  },
  {
   "cell_type": "markdown",
   "metadata": {},
   "source": [
    "**Explanation**:\n",
    "- `int(age)` converts the string `age` to a number so we can subtract.\n",
    "- If you skip `int()`, you’ll get an error trying to do math with a string.\n",
    "\n",
    "**Try it**: Run the code. Try entering a non-number (e.g., `abc`). What happens? (You’ll see a `ValueError`—we’ll handle errors later!)"
   ]
  },
  {
   "cell_type": "markdown",
   "metadata": {},
   "source": [
    "## 3. String Manipulation\n",
    "\n",
    "Strings are text (e.g., `\"Python\"`). You can manipulate them in many ways:\n",
    "- **Concatenation**: Combine strings with `+`.\n",
    "- **Slicing**: Get parts of a string (e.g., `text[0:3]`).\n",
    "- **Methods**: Built-in functions like `.upper()`, `.lower()`, `.strip()`.\n",
    "\n",
    "Let’s explore these."
   ]
  },
  {
   "cell_type": "code",
   "execution_count": 3,
   "metadata": {},
   "outputs": [
    {
     "name": "stdout",
     "output_type": "stream",
     "text": [
      "Python is fun!\n",
      "First letter: P\n",
      "First three: Pyt\n",
      "Reverse: nohtyP\n",
      "Uppercase: PYTHON\n",
      "Lowercase: python\n",
      "Cleaned: hello\n"
     ]
    }
   ],
   "source": [
    "# Example: String manipulation\n",
    "text = \"Python\"\n",
    "\n",
    "# Concatenation\n",
    "greeting = text + \" is fun!\"\n",
    "print(greeting)  # Prints: Python is fun!\n",
    "\n",
    "# Slicing\n",
    "print(\"First letter:\", text[0])      # P\n",
    "print(\"First three:\", text[0:3])     # Pyt\n",
    "print(\"Reverse:\", text[::-1])        # nohtyP\n",
    "\n",
    "# String methods\n",
    "print(\"Uppercase:\", text.upper())    # PYTHON\n",
    "print(\"Lowercase:\", text.lower())    # python\n",
    "messy = \"   hello   \"\n",
    "print(\"Cleaned:\", messy.strip())     # hello"
   ]
  },
  {
   "cell_type": "markdown",
   "metadata": {},
   "source": [
    "**Explanation**:\n",
    "- Concatenation: `\"Python\" + \" is fun!\"` joins strings.\n",
    "- Slicing: `text[0:3]` gets characters from index 0 to 2. `text[::-1]` reverses the string.\n",
    "- Methods: `.upper()` changes case, `.strip()` removes extra spaces.\n",
    "\n",
    "**Try it**: Change `text` to your name. Print it in uppercase and reversed."
   ]
  },
  {
   "cell_type": "markdown",
   "metadata": {},
   "source": [
    "## 4. String Formatting\n",
    "\n",
    "Formatting makes outputs readable. We’ll use **f-strings** (the modern way).\n",
    "- Syntax: `f\"Text {variable}\"` embeds variables directly.\n",
    "\n",
    "Older methods exist (`.format()`, `%`), but f-strings are simplest."
   ]
  },
  {
   "cell_type": "code",
   "execution_count": 2,
   "metadata": {},
   "outputs": [
    {
     "name": "stdout",
     "output_type": "stream",
     "text": [
      "Hi, gul! You’re 52 years old.\n",
      "gul, you’ll be 100 in 48 years!\n"
     ]
    }
   ],
   "source": [
    "# Example: F-strings\n",
    "name = input(\"Enter your name: \")\n",
    "age = int(input(\"Enter your age: \"))\n",
    "\n",
    "# Using f-strings\n",
    "message = f\"Hi, {name}! You’re {age} years old.\"\n",
    "print(message)\n",
    "\n",
    "# More formatting\n",
    "years_left = 100 - age\n",
    "print(f\"{name}, you’ll be 100 in {years_left} years!\")"
   ]
  },
  {
   "cell_type": "markdown",
   "metadata": {},
   "source": [
    "**Explanation**:\n",
    "- `f\"Hi, {name}!\"` inserts `name` into the string.\n",
    "- F-strings are clean and easy to read compared to concatenation.\n",
    "\n",
    "**Try it**: Run the code. Then, modify it to print your name in uppercase using `.upper()` in the f-string."
   ]
  },
  {
   "cell_type": "markdown",
   "metadata": {},
   "source": [
    "## 5. Practice Exercise 1: Personalized Greeting\n",
    "\n",
    "Let’s create an interactive greeting program.\n",
    "\n",
    "**Task**:\n",
    "- Ask the user for their name and favorite hobby.\n",
    "- Print a message like: `Hello, Gul! I love Coding too!`\n",
    "- Use an f-string and make the hobby capitalized (e.g., `coding` → `Coding`).\n",
    "\n",
    "Write your code below."
   ]
  },
  {
   "cell_type": "code",
   "execution_count": null,
   "metadata": {},
   "outputs": [],
   "source": [
    "# Practice: Personalized greeting\n",
    "# Write your code here\n",
    "\n"
   ]
  },
  {
   "cell_type": "markdown",
   "metadata": {},
   "source": [
    "**Hint**:\n",
    "- Use `input()` twice.\n",
    "- Use `.capitalize()` to make the hobby start with a capital letter.\n",
    "- Example: `f\"Hello, {name}! I love {hobby} too!\"`.\n",
    "\n",
    "**Check your work**: If name is `Gul` and hobby is `coding`, output should be `Hello, Gul! I love Coding too!`."
   ]
  },
  {
   "cell_type": "markdown",
   "metadata": {},
   "source": [
    "## 6. Practice Exercise 2: Mad Libs Game\n",
    "\n",
    "Let’s make a fun “Mad Libs” story where users fill in the blanks.\n",
    "\n",
    "**Task**:\n",
    "- Ask the user for a noun, verb, and adjective.\n",
    "- Create a story like: `The shiny dog only jumps.` (using their inputs).\n",
    "- Use an f-string to format the story.\n",
    "\n",
    "Write your code below."
   ]
  },
  {
   "cell_type": "code",
   "execution_count": null,
   "metadata": {},
   "outputs": [],
   "source": [
    "# Practice: Mad Libs story\n",
    "# Write your code here\n",
    "\n"
   ]
  },
  {
   "cell_type": "markdown",
   "metadata": {},
   "source": [
    "**Example Solution** (don’t peek unless stuck!):\n",
    "```python\n",
    "noun = input(\"Enter a noun: \")\n",
    "verb = input(\"Enter a verb: \")\n",
    "adjective = input(\"Enter an adjective: \")\n",
    "story = f\"The {adjective} {noun} only {verb}.\"\n",
    "print(story)\n",
    "```\n",
    "\n",
    "**Check your work**: If inputs are `dog`, `jumps`, `shiny`, output should be `The shiny dog only jumps.`"
   ]
  },
  {
   "cell_type": "markdown",
   "metadata": {},
   "source": [
    "## 7. Bonus: Reverse a Name\n",
    "\n",
    "For a quick challenge, let’s reverse a user’s name.\n",
    "\n",
    "**Task**:\n",
    "- Ask the user for their name.\n",
    "- Print their name reversed (e.g., `Gul` → `lug`).\n",
    "- Also print it in uppercase.\n",
    "\n",
    "**Hint**: Use slicing (`[::-1]`) and `.upper()`."
   ]
  },
  {
   "cell_type": "code",
   "execution_count": null,
   "metadata": {},
   "outputs": [],
   "source": [
    "# Bonus: Reverse a name\n",
    "# Write your code here\n",
    "\n"
   ]
  },
  {
   "cell_type": "markdown",
   "metadata": {},
   "source": [
    "**Check your work**: If the input is `Gul`, outputs should be `lug` and `LUG`."
   ]
  },
  {
   "cell_type": "markdown",
   "metadata": {},
   "source": [
    "# Control Structures – Conditionals and Loops\n",
    "\n",
    "**What we'll cover**:\n",
    "- Conditionals: Using `if`, `else`, and `elif` to make decisions.\n",
    "- Loops: Using `for` and `while` to repeat actions.\n",
    "- Loop control: `break` and `continue`.\n",
    "\n",
    "**Prerequisite**: You should know variables, input/output, and strings from Classes 1–3. If unsure, ask your instructor!\n",
    "\n",
    "Let’s make our programs smarter!"
   ]
  },
  {
   "cell_type": "markdown",
   "metadata": {},
   "source": [
    "## 1. Conditionals: Making Decisions\n",
    "\n",
    "Conditionals let your program choose what to do based on conditions using `if`, `else`, and `elif`.\n",
    "\n",
    "- **Syntax**:\n",
    "  ```python\n",
    "  if condition:\n",
    "      # Do something\n",
    "  elif another_condition:\n",
    "      # Do something else\n",
    "  else:\n",
    "      # Do this if no conditions are true\n",
    "  ```\n",
    "- Conditions use comparison operators (e.g., `==`, `>`, `<`) or logical operators (e.g., `and`, `or`).\n",
    "\n",
    "**Analogy**: It’s like choosing what to wear: *If it’s raining, take an umbrella; else, wear sunglasses.*"
   ]
  },
  {
   "cell_type": "code",
   "execution_count": 3,
   "metadata": {},
   "outputs": [
    {
     "name": "stdout",
     "output_type": "stream",
     "text": [
      "The number is positive!\n"
     ]
    }
   ],
   "source": [
    "# Example: Check if a number is positive, negative, or zero\n",
    "number = int(input(\"Enter a number: \"))\n",
    "\n",
    "if number > 0:\n",
    "    print(\"The number is positive!\")\n",
    "elif number < 0:\n",
    "    print(\"The number is negative!\")\n",
    "else:\n",
    "    print(\"The number is zero!\")"
   ]
  },
  {
   "cell_type": "markdown",
   "metadata": {},
   "source": [
    "**Explanation**:\n",
    "- `if number > 0` checks if the number is positive.\n",
    "- `elif number < 0` checks for negative (only if the first condition is false).\n",
    "- `else` handles the remaining case (zero).\n",
    "\n",
    "**Try it**: Run the code with different numbers (e.g., `5`, `-3`, `0`). What happens if you enter a letter? (You’ll get a `ValueError`—we’ll fix this later!)"
   ]
  },
  {
   "cell_type": "markdown",
   "metadata": {},
   "source": [
    "## 2. For Loops: Repeating with a Range\n",
    "\n",
    "A `for` loop repeats actions a set number of times, often using `range()` to generate numbers.\n",
    "\n",
    "- **Syntax**:\n",
    "  ```python\n",
    "  for variable in range(start, end, step):\n",
    "      # Do something\n",
    "  ```\n",
    "- `range(5)` gives `0, 1, 2, 3, 4` (end is exclusive).\n",
    "- `range(1, 6)` gives `1, 2, 3, 4, 5`.\n",
    "\n",
    "Let’s print a multiplication table."
   ]
  },
  {
   "cell_type": "code",
   "execution_count": null,
   "metadata": {},
   "outputs": [],
   "source": [
    "# Example: Multiplication table for 5\n",
    "number = 5\n",
    "for i in range(1, 11):  # From 1 to 10\n",
    "    result = number * i\n",
    "    print(f\"{number} x {i} = {result}\")"
   ]
  },
  {
   "cell_type": "markdown",
   "metadata": {},
   "source": [
    "**Explanation**:\n",
    "- `range(1, 11)` generates numbers `1` to `10`.\n",
    "- `i` takes each value, and we calculate `number * i`.\n",
    "- F-strings make the output neat (e.g., `5 x 1 = 5`).\n",
    "\n",
    "**Try it**: Change `number` to `7` and run it. Then, modify `range()` to show only `1` to `5`."
   ]
  },
  {
   "cell_type": "markdown",
   "metadata": {},
   "source": [
    "## 3. While Loops: Repeating Until a Condition\n",
    "\n",
    "A `while` loop repeats as long as a condition is true.\n",
    "\n",
    "- **Syntax**:\n",
    "  ```python\n",
    "  while condition:\n",
    "      # Do something\n",
    "  ```\n",
    "- Be careful: If the condition never becomes false, you get an **infinite loop**!\n",
    "\n",
    "Let’s keep asking for input until a valid number is entered."
   ]
  },
  {
   "cell_type": "code",
   "execution_count": null,
   "metadata": {},
   "outputs": [],
   "source": [
    "# Example: Keep asking until a positive number\n",
    "number = -1\n",
    "while number <= 0:\n",
    "    number = int(input(\"Enter a positive number: \"))\n",
    "print(f\"You entered {number}! Great job!\")"
   ]
  },
  {
   "cell_type": "markdown",
   "metadata": {},
   "source": [
    "**Explanation**:\n",
    "- The loop runs while `number <= 0`.\n",
    "- Once a positive number is entered, the loop stops.\n",
    "\n",
    "**Try it**: Run the code. Enter `0`, `-5`, then `10`. What happens if you enter a letter? (Error—we’ll handle this in later classes.)"
   ]
  },
  {
   "cell_type": "markdown",
   "metadata": {},
   "source": [
    "## Wrap-Up\n",
    "\n",
    "**Awesome work!** Today, you:\n",
    "- Learned to use **`input()`** and **`print()`** for interaction.\n",
    "- Manipulated **strings** with concatenation, slicing, and methods.\n",
    "- Formatted outputs with **f-strings**.\n",
    "\n",
    "**Homework**:\n",
    "- Finish the practice exercises if you didn’t in class.\n",
    "- Create a program that asks for your favorite food and prints it reversed (e.g., `pizza` → `azzip`).\n",
    "- Explore one new string method (e.g., `.replace()`) in Python’s docs: [docs.python.org/3/library/stdtypes.html#string-methods](https://docs.python.org/3/library/stdtypes.html#string-methods).\n",
    "\n",
    "**Next Class**: We’ll learn conditionals and loops to make decisions and repeat tasks!\n",
    "\n",
    "Questions? Ask your instructor or post in our class forum!"
   ]
  }
 ],
 "metadata": {
  "kernelspec": {
   "display_name": "base",
   "language": "python",
   "name": "python3"
  },
  "language_info": {
   "codemirror_mode": {
    "name": "ipython",
    "version": 3
   },
   "file_extension": ".py",
   "mimetype": "text/x-python",
   "name": "python",
   "nbconvert_exporter": "python",
   "pygments_lexer": "ipython3",
   "version": "3.12.3"
  }
 },
 "nbformat": 4,
 "nbformat_minor": 4
}
