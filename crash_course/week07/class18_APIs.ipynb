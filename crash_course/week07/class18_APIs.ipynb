{
 "cells": [
  {
   "cell_type": "markdown",
   "metadata": {},
   "source": [
    "# Class 19: Introduction to APIs\n",
    "\n",
    "**Week 9: Introduction to APIs and Web Services**\n",
    "\n",
    "Welcome to the first class of Week 8! Today, we’ll explore the basics of **Application Programming Interfaces (APIs)**, the backbone of modern web services. By the end, you’ll understand what APIs are, their key components (endpoints, requests, responses), and how to interact with them using Python.\n",
    "\n",
    "## Objectives\n",
    "- Learn what APIs are and their role in software development.\n",
    "- Understand the structure: endpoints, HTTP methods, requests, and responses.\n",
    "- Explore JSON, a common API data format.\n",
    "- Make API calls using Python’s `requests` library.\n",
    "\n",
    "## Agenda\n",
    "1. What are APIs?\n",
    "2. Components: Endpoints, HTTP methods, headers, payloads.\n",
    "3. JSON data format.\n",
    "4. Demo: Fetching data from a public API.\n",
    "5. Exercise: Make an API call.\n",
    "\n",
    "Let’s dive in!"
   ]
  },
  {
   "cell_type": "markdown",
   "metadata": {},
   "source": [
    "## 1. What Are APIs?\n",
    "\n",
    "APIs (Application Programming Interfaces) are tools that allow different software systems to communicate with each other. They act as intermediaries, enabling applications to request and share data or services.\n",
    "\n",
    "- **Analogy**: Think of an API as a waiter in a restaurant. You (the client) make a request (e.g., order food), the waiter communicates with the kitchen (the server), and brings back the response (your meal).\n",
    "- **Structure**: APIs typically involve:\n",
    "  - **Endpoints**: Specific URLs where API resources are accessed (e.g., `https://api.example.com/users`).\n",
    "  - **Requests**: Messages sent to the API (e.g., GET to retrieve data, POST to send data).\n",
    "  - **Responses**: Data returned by the API, often in JSON format.\n",
    "\n",
    "APIs are used in web development, mobile apps, and more to fetch data like weather, user info, or posts."
   ]
  },
  {
   "cell_type": "markdown",
   "metadata": {},
   "source": [
    "## 2. Components of APIs\n",
    "\n",
    "Let’s break down the building blocks:\n",
    "\n",
    "- **Endpoint**: A URL that represents a specific resource (e.g., `/posts` for a list of posts).\n",
    "- **HTTP Methods**: Define the action:\n",
    "  - `GET`: Retrieve data.\n",
    "  - `POST`: Send data to create a resource.\n",
    "  - `PUT`: Update a resource.\n",
    "  - `DELETE`: Remove a resource.\n",
    "- **Headers**: Metadata sent with requests (e.g., authentication tokens, content type).\n",
    "- **Payload**: Data sent in a request (e.g., JSON data in a POST request).\n",
    "- **Response**: Data returned, including status codes (e.g., 200 OK, 404 Not Found) and body (e.g., JSON).\n",
    "\n",
    "Below, we’ll visualize an API request-response flow."
   ]
  },
  {
   "cell_type": "code",
   "execution_count": null,
   "metadata": {},
   "outputs": [],
   "source": [
    "# Import libraries for visualization\n",
    "import matplotlib.pyplot as plt\n",
    "\n",
    "# Function to draw a simple API request-response flow\n",
    "def plot_api_flow():\n",
    "    fig, ax = plt.subplots(figsize=(8, 4))\n",
    "    \n",
    "    # Draw client and server\n",
    "    client = plt.Rectangle((0, 0), 1, 1, color='skyblue', ec='black')\n",
    "    server = plt.Rectangle((4, 0), 1, 1, color='lightgreen', ec='black')\n",
    "    ax.add_patch(client)\n",
    "    ax.add_patch(server)\n",
    "    \n",
    "    # Labels\n",
    "    ax.text(0.5, 0.5, 'Client\\n(Python)', ha='center', va='center', fontsize=12)\n",
    "    ax.text(4.5, 0.5, 'Server\\n(API)', ha='center', va='center', fontsize=12)\n",
    "    \n",
    "    # Draw request and response arrows\n",
    "    ax.arrow(1.2, 0.7, 2.6, 0, head_width=0.1, head_length=0.2, fc='blue', ec='blue')\n",
    "    ax.arrow(3.8, 0.3, -2.6, 0, head_width=0.1, head_length=0.2, fc='green', ec='green')\n",
    "    \n",
    "    # Arrow labels\n",
    "    ax.text(2.5, 0.9, 'Request\\n(GET /posts)', ha='center', fontsize=10)\n",
    "    ax.text(2.5, 0.1, 'Response\\n(JSON data)', ha='center', fontsize=10)\n",
    "    \n",
    "    # Set up plot\n",
    "    ax.set_xlim(-0.5, 5.5)\n",
    "    ax.set_ylim(-0.5, 1.5)\n",
    "    ax.set_aspect('equal')\n",
    "    ax.axis('off')\n",
    "    plt.title('API Request-Response Flow', fontsize=16)\n",
    "    plt.show()\n",
    "\n",
    "# Plot the flow\n",
    "plot_api_flow()"
   ]
  },
  {
   "cell_type": "markdown",
   "metadata": {},
   "source": [
    "**Explanation**: This diagram shows:\n",
    "- A **client** (your Python code) sending a GET request to an API endpoint.\n",
    "- The **server** (API) responding with JSON data.\n",
    "\n",
    "The arrows represent the request (e.g., asking for posts) and response (e.g., receiving post data)."
   ]
  },
  {
   "cell_type": "markdown",
   "metadata": {},
   "source": [
    "## 3. JSON Data Format\n",
    "\n",
    "JSON (JavaScript Object Notation) is the most common format for API data. It’s lightweight, human-readable, and structured as key-value pairs.\n",
    "\n",
    "- **Example JSON**:\n",
    "```json\n",
    "{\n",
    "  \"id\": 1,\n",
    "  \"title\": \"Sample Post\",\n",
    "  \"body\": \"This is a post.\",\n",
    "  \"userId\": 1\n",
    "}\n",
    "```\n",
    "- **Why JSON?** Easy to parse in Python (using `json` or `requests`), widely supported.\n",
    "\n",
    "Let’s fetch and visualize JSON data from a public API."
   ]
  },
  {
   "cell_type": "code",
   "execution_count": null,
   "metadata": {},
   "outputs": [],
   "source": [
    "# Import requests library\n",
    "import requests\n",
    "import json\n",
    "\n",
    "# Function to fetch and display JSON data\n",
    "def fetch_api_data():\n",
    "    # Use JSONPlaceholder, a free public API\n",
    "    url = 'https://jsonplaceholder.typicode.com/posts/1'\n",
    "    response = requests.get(url)\n",
    "    \n",
    "    # Check status code\n",
    "    print(f'Status Code: {response.status_code}')\n",
    "    \n",
    "    # Parse JSON\n",
    "    data = response.json()\n",
    "    print('JSON Response:')\n",
    "    print(json.dumps(data, indent=2))\n",
    "\n",
    "# Fetch and display data\n",
    "fetch_api_data()"
   ]
  },
  {
   "cell_type": "markdown",
   "metadata": {},
   "source": [
    "**Explanation**:\n",
    "- We used the `requests` library to send a GET request to JSONPlaceholder’s `/posts/1` endpoint.\n",
    "- The API returns a JSON object with fields like `id`, `title`, `body`, and `userId`.\n",
    "- Status code 200 means the request was successful."
   ]
  },
  {
   "cell_type": "markdown",
   "metadata": {},
   "source": [
    "## 4. Exercise: Make an API Call\n",
    "\n",
    "Let’s apply what we’ve learned! Your task is to fetch data from a different endpoint and extract specific fields.\n",
    "\n",
    "**Problem**:\n",
    "- **Endpoint**: `https://jsonplaceholder.typicode.com/users/1`\n",
    "- **Task**: Fetch the user’s `name` and `email`.\n",
    "\n",
    "**Steps**:\n",
    "1. Send a GET request to the endpoint.\n",
    "2. Parse the JSON response.\n",
    "3. Extract and print the `name` and `email` fields.\n",
    "\n",
    "Try writing the code, then check with the solution below."
   ]
  },
  {
   "cell_type": "code",
   "execution_count": null,
   "metadata": {},
   "outputs": [],
   "source": [
    "# Fetch user data\n",
    "url = 'https://jsonplaceholder.typicode.com/users/1'\n",
    "response = requests.get(url)\n",
    "\n",
    "# Step 1: Check status\n",
    "print(f'Status Code: {response.status_code}')\n",
    "\n",
    "# Step 2: Parse JSON\n",
    "data = response.json()\n",
    "\n",
    "# Step 3: Extract name and email\n",
    "name = data['name']\n",
    "email = data['email']\n",
    "print(f'Name: {name}')\n",
    "print(f'Email: {email}')\n",
    "\n",
    "# Your turn: Modify the URL to fetch user with ID 2\n",
    "# Example: Change URL to 'https://jsonplaceholder.typicode.com/users/2'"
   ]
  },
  {
   "cell_type": "markdown",
   "metadata": {},
   "source": [
    "**Your Task**:\n",
    "1. Run the code and verify the output.\n",
    "2. Modify the code to fetch data for user ID 2 and print their `name` and `email`.\n",
    "3. What happens if you use an invalid ID (e.g., 999)? Why?\n",
    "\n",
    "Write your answers below."
   ]
  },
  {
   "cell_type": "markdown",
   "metadata": {},
   "source": [
    "## Your Answers\n",
    "\n",
    "**Original code results**:\n",
    "- Name: ______\n",
    "- Email: ______\n",
    "\n",
    "**Modified code results (user ID 2)**:\n",
    "- Name: ______\n",
    "- Email: ______\n",
    "\n",
    "**Invalid ID question**:\n",
    "- What happens if you use an invalid ID (e.g., 999)? ______\n",
    "- Why? ______"
   ]
  },
  {
   "cell_type": "markdown",
   "metadata": {},
   "source": [
    "## Wrap-Up\n",
    "\n",
    "Great work! Today, you:\n",
    "- Learned what APIs are and their role in software.\n",
    "- Explored endpoints, HTTP methods, headers, and JSON.\n",
    "- Made API calls using Python’s `requests` library.\n",
    "- Fetched and parsed data from a public API.\n",
    "\n",
    "**Homework**:\n",
    "- Read the Requests library documentation: [https://requests.readthedocs.io/en/latest/](https://requests.readthedocs.io/en/latest/).\n",
    "- Experiment with the code above (try different endpoints like `/posts` or `/comments`).\n",
    "- Optional: Explore [Postman](https://www.postman.com/) to test APIs visually.\n",
    "\n",
    "Next class, we’ll build a simple app that uses an API! Make sure you have the `requests` library installed:\n",
    "```bash\n",
    "pip install requests\n",
    "```"
   ]
  }
 ],
 "metadata": {
  "kernelspec": {
   "display_name": "Python 3",
   "language": "python",
   "name": "python3"
  },
  "language_info": {
   "codemirror_mode": {
    "name": "ipython",
    "version": 3
   },
   "file_extension": ".py",
   "mimetype": "text/x-python",
   "name": "python",
   "nbconvert_exporter": "python",
   "pygments_lexer": "ipython3",
   "version": "3.8.0"
  }
 },
 "nbformat": 4,
 "nbformat_minor": 4
}
